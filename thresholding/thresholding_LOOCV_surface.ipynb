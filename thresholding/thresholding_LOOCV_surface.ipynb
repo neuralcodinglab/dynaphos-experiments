{
 "cells": [
  {
   "cell_type": "code",
   "execution_count": 44,
   "metadata": {
    "collapsed": true
   },
   "outputs": [],
   "source": [
    "import numpy as np\n",
    "import matplotlib.pyplot as plt\n",
    "from matplotlib import cm\n",
    "import yaml\n",
    "import sys\n",
    "sys.path.append('./../..')\n",
    "from dynaphos import utils\n",
    "\n",
    "import pandas as pd\n",
    "import seaborn as sns\n",
    "\n",
    "from scipy.optimize import curve_fit\n",
    "from scipy.stats import linregress, norm\n",
    "\n",
    "import matplotlib.pyplot as plt\n",
    "\n",
    "# import tqdm\n",
    "# from tqdm.notebook import trange, tqdm\n",
    "from tqdm.autonotebook import tqdm as notebook_tqdm\n",
    "\n",
    "COLORSTYLE = utils.load_params('../_figurestyle/colors.yaml')\n",
    "plt.style.use('../_figurestyle/small.mplstyle')\n",
    "%matplotlib qt\n",
    "params = utils.load_params('../dynaphos-core/config/params_surface.yaml')\n"
   ]
  },
  {
   "cell_type": "code",
   "execution_count": 45,
   "outputs": [],
   "source": [
    "# Default stimulation parameters in Fernandez et al 2021\n",
    "DEFAULT = pd.Series({'pulse_width'    : 170e-6,\n",
    "                     'frequency'      : 300,\n",
    "                     'train_duration' : 166e-3})\n",
    "\n",
    "# Proportion of phosphene perception in figure 2 Fernandez et al 2021\n",
    "PROPORTIONS = pd.read_csv('data/Fernandez_et_al_2021_fig2.csv',float_precision='high')\n",
    "\n",
    "# 50 percent detection thresholds (based on the fit by Fernandez et al fig 2)\n",
    "THRESHOLDS  = pd.read_csv('data/Fernandez_et_al_2021_fig2_50perc_thresholds.csv',float_precision='high')\n",
    "\n",
    "## VISUALIZE\n",
    "fig, axs = plt.subplots(1,3,figsize=(15,5),dpi=200)\n",
    "for i, (label, param) in enumerate([ ('fig2A','pulse_width'),\n",
    "                                    ('fig2B','frequency'),\n",
    "                                    ('fig2C','train_duration')]):\n",
    "    sns.lineplot(data=PROPORTIONS.loc[PROPORTIONS.label==label],\n",
    "                 x='charge_per_phase',\n",
    "                 y='proportion_phosphene_perception',\n",
    "                 hue=param,\n",
    "                 ax = axs[i])\n",
    "    axs[i].set(title=f'{label} (reproduced)')\n",
    "    axs[i].axhline(0.5, color='k', linestyle=':')\n",
    "\n",
    "plt.tight_layout()\n",
    "\n",
    "## Uncomment to look at the detection thresholds\n",
    "# THRESHOLDS"
   ],
   "metadata": {
    "collapsed": false
   }
  },
  {
   "cell_type": "code",
   "execution_count": 3,
   "outputs": [
    {
     "data": {
      "text/plain": "   pulse_width  frequency  train_duration  charge_per_phase  label  amplitude  \\\n0      0.00010        300           0.166      7.500000e-09  fig2A   0.000075   \n1      0.00017        300           0.166      7.000000e-09  fig2A   0.000041   \n2      0.00040        300           0.166      1.600000e-08  fig2A   0.000040   \n3      0.00080        300           0.166      2.000000e-08  fig2A   0.000025   \n4      0.00017        100           0.166      1.400000e-08  fig2B   0.000082   \n5      0.00017        200           0.166      9.000000e-09  fig2B   0.000053   \n6      0.00017        300           0.166      6.000000e-09  fig2B   0.000035   \n7      0.00017        300           0.050      1.390000e-08  fig2C   0.000082   \n8      0.00017        300           0.083      8.500000e-09  fig2C   0.000050   \n9      0.00017        300           0.166      6.300000e-09  fig2C   0.000037   \n\n   charge_per_trial  duty_cycle  corrected_duration  \n0      3.735000e-07       0.030            0.004980  \n1      3.486000e-07       0.051            0.008466  \n2      7.968000e-07       0.120            0.019920  \n3      9.960000e-07       0.240            0.039840  \n4      2.324000e-07       0.017            0.002822  \n5      2.988000e-07       0.034            0.005644  \n6      2.988000e-07       0.051            0.008466  \n7      2.085000e-07       0.051            0.002550  \n8      2.116500e-07       0.051            0.004233  \n9      3.137400e-07       0.051            0.008466  ",
      "text/html": "<div>\n<style scoped>\n    .dataframe tbody tr th:only-of-type {\n        vertical-align: middle;\n    }\n\n    .dataframe tbody tr th {\n        vertical-align: top;\n    }\n\n    .dataframe thead th {\n        text-align: right;\n    }\n</style>\n<table border=\"1\" class=\"dataframe\">\n  <thead>\n    <tr style=\"text-align: right;\">\n      <th></th>\n      <th>pulse_width</th>\n      <th>frequency</th>\n      <th>train_duration</th>\n      <th>charge_per_phase</th>\n      <th>label</th>\n      <th>amplitude</th>\n      <th>charge_per_trial</th>\n      <th>duty_cycle</th>\n      <th>corrected_duration</th>\n    </tr>\n  </thead>\n  <tbody>\n    <tr>\n      <th>0</th>\n      <td>0.00010</td>\n      <td>300</td>\n      <td>0.166</td>\n      <td>7.500000e-09</td>\n      <td>fig2A</td>\n      <td>0.000075</td>\n      <td>3.735000e-07</td>\n      <td>0.030</td>\n      <td>0.004980</td>\n    </tr>\n    <tr>\n      <th>1</th>\n      <td>0.00017</td>\n      <td>300</td>\n      <td>0.166</td>\n      <td>7.000000e-09</td>\n      <td>fig2A</td>\n      <td>0.000041</td>\n      <td>3.486000e-07</td>\n      <td>0.051</td>\n      <td>0.008466</td>\n    </tr>\n    <tr>\n      <th>2</th>\n      <td>0.00040</td>\n      <td>300</td>\n      <td>0.166</td>\n      <td>1.600000e-08</td>\n      <td>fig2A</td>\n      <td>0.000040</td>\n      <td>7.968000e-07</td>\n      <td>0.120</td>\n      <td>0.019920</td>\n    </tr>\n    <tr>\n      <th>3</th>\n      <td>0.00080</td>\n      <td>300</td>\n      <td>0.166</td>\n      <td>2.000000e-08</td>\n      <td>fig2A</td>\n      <td>0.000025</td>\n      <td>9.960000e-07</td>\n      <td>0.240</td>\n      <td>0.039840</td>\n    </tr>\n    <tr>\n      <th>4</th>\n      <td>0.00017</td>\n      <td>100</td>\n      <td>0.166</td>\n      <td>1.400000e-08</td>\n      <td>fig2B</td>\n      <td>0.000082</td>\n      <td>2.324000e-07</td>\n      <td>0.017</td>\n      <td>0.002822</td>\n    </tr>\n    <tr>\n      <th>5</th>\n      <td>0.00017</td>\n      <td>200</td>\n      <td>0.166</td>\n      <td>9.000000e-09</td>\n      <td>fig2B</td>\n      <td>0.000053</td>\n      <td>2.988000e-07</td>\n      <td>0.034</td>\n      <td>0.005644</td>\n    </tr>\n    <tr>\n      <th>6</th>\n      <td>0.00017</td>\n      <td>300</td>\n      <td>0.166</td>\n      <td>6.000000e-09</td>\n      <td>fig2B</td>\n      <td>0.000035</td>\n      <td>2.988000e-07</td>\n      <td>0.051</td>\n      <td>0.008466</td>\n    </tr>\n    <tr>\n      <th>7</th>\n      <td>0.00017</td>\n      <td>300</td>\n      <td>0.050</td>\n      <td>1.390000e-08</td>\n      <td>fig2C</td>\n      <td>0.000082</td>\n      <td>2.085000e-07</td>\n      <td>0.051</td>\n      <td>0.002550</td>\n    </tr>\n    <tr>\n      <th>8</th>\n      <td>0.00017</td>\n      <td>300</td>\n      <td>0.083</td>\n      <td>8.500000e-09</td>\n      <td>fig2C</td>\n      <td>0.000050</td>\n      <td>2.116500e-07</td>\n      <td>0.051</td>\n      <td>0.004233</td>\n    </tr>\n    <tr>\n      <th>9</th>\n      <td>0.00017</td>\n      <td>300</td>\n      <td>0.166</td>\n      <td>6.300000e-09</td>\n      <td>fig2C</td>\n      <td>0.000037</td>\n      <td>3.137400e-07</td>\n      <td>0.051</td>\n      <td>0.008466</td>\n    </tr>\n  </tbody>\n</table>\n</div>"
     },
     "execution_count": 3,
     "metadata": {},
     "output_type": "execute_result"
    }
   ],
   "source": [
    "def add_complementary_parameters(data):\n",
    "    data['amplitude']  = data.charge_per_phase/data.pulse_width\n",
    "    data['charge_per_trial'] = data.charge_per_phase * data.frequency * data.train_duration\n",
    "    data['duty_cycle'] = data.pulse_width*data.frequency\n",
    "    data['corrected_duration'] = data.duty_cycle * data.train_duration\n",
    "    return data\n",
    "\n",
    "# Calculate other descriptive parameters and add to the dataframe\n",
    "add_complementary_parameters(PROPORTIONS)\n",
    "add_complementary_parameters(THRESHOLDS)"
   ],
   "metadata": {
    "collapsed": false
   }
  },
  {
   "cell_type": "code",
   "execution_count": 4,
   "outputs": [
    {
     "data": {
      "text/plain": "((10, 9), (102, 10))"
     },
     "execution_count": 4,
     "metadata": {},
     "output_type": "execute_result"
    }
   ],
   "source": [
    "THRESHOLDS.shape, PROPORTIONS.shape"
   ],
   "metadata": {
    "collapsed": false
   }
  },
  {
   "cell_type": "code",
   "execution_count": 5,
   "outputs": [
    {
     "data": {
      "text/plain": "[array([3, 5, 0]), array([9, 6, 1]), array([2, 7, 4, 8])]"
     },
     "execution_count": 5,
     "metadata": {},
     "output_type": "execute_result"
    }
   ],
   "source": [
    "rng = np.random.default_rng()\n",
    "idxs = np.arange(len(THRESHOLDS))\n",
    "rng.shuffle(idxs)\n",
    "test_splits = np.split(idxs,[3,6])\n",
    "test_splits"
   ],
   "metadata": {
    "collapsed": false
   }
  },
  {
   "cell_type": "code",
   "execution_count": 6,
   "outputs": [],
   "source": [
    "def get_additional_stim_data(n_datapoints=150, I_max=120e-6, ):\n",
    "    \"\"\"Produce some new stimulation datapoints, for evaluating the (simulated) effects.\n",
    "    Using more datapoints can be helpful for a smooth visualization of the modelled responses.\"\"\"\n",
    "    i = np.linspace(0.,I_max, n_datapoints)\n",
    "    pws = np.array([100e-6, 170e-6, 400e-6,800e-6,])\n",
    "    fs = np.array([100.,200.,300.])\n",
    "    dur = np.array([50.*1e-3, 83.*1e-3, 166.*1e-3])\n",
    "\n",
    "    PW, F, TD, I = np.meshgrid(pws,fs,dur,i) ### all permutations of I, pw fs and duration\n",
    "    data = pd.DataFrame({'pulse_width': PW.flatten(),\n",
    "                         'frequency': F.flatten(),\n",
    "                         'train_duration': TD.flatten(),\n",
    "                         'amplitude': I.flatten(),\n",
    "                         'mask_pulse_width': False,\n",
    "                         'mask_frequency': False,\n",
    "                         'mask_train_duration': False})\n",
    "    data['charge_per_phase']  = data.amplitude*data.pulse_width\n",
    "    data['charge_per_trial'] = data.charge_per_phase * data.frequency * data.train_duration\n",
    "\n",
    "    #\n",
    "    data.loc[(data.frequency == DEFAULT.frequency) & (data.train_duration == DEFAULT.train_duration), 'mask_pulse_width'] = True\n",
    "    data.loc[(data.pulse_width == DEFAULT.pulse_width) & (data.train_duration == DEFAULT.train_duration), 'mask_frequency'] = True\n",
    "    data.loc[(data.frequency == DEFAULT.frequency) & (data.pulse_width == DEFAULT.pulse_width), 'mask_train_duration'] = True\n",
    "    return data\n",
    "\n",
    "def get_additional_stim_data2(thresholds, n_datapoints=150, I_max=120e-6):\n",
    "    data = []\n",
    "    for index, row in thresholds.iterrows():\n",
    "        for i in np.linspace(0., I_max, n_datapoints):\n",
    "            pw, f, td = row[['pulse_width', 'frequency', 'train_duration']]\n",
    "            entry = [pw, f, td, i, False, False, False]\n",
    "            data.append(entry)\n",
    "    data = pd.DataFrame(data, columns=['pulse_width',\n",
    "                                       'frequency',\n",
    "                                       'train_duration',\n",
    "                                       'amplitude',\n",
    "                                       'mask_pulse_width',\n",
    "                                       'mask_frequency',\n",
    "                                       'mask_train_duration'])\n",
    "\n",
    "    data['charge_per_phase']  = data.amplitude*data.pulse_width\n",
    "    data['charge_per_trial'] = data.charge_per_phase * data.frequency * data.train_duration\n",
    "\n",
    "    #\n",
    "    data.loc[(data.frequency == DEFAULT.frequency) & (data.train_duration == DEFAULT.train_duration), 'mask_pulse_width'] = True\n",
    "    data.loc[(data.pulse_width == DEFAULT.pulse_width) & (data.train_duration == DEFAULT.train_duration), 'mask_frequency'] = True\n",
    "    data.loc[(data.frequency == DEFAULT.frequency) & (data.pulse_width == DEFAULT.pulse_width), 'mask_train_duration'] = True\n",
    "    return data\n",
    "\n"
   ],
   "metadata": {
    "collapsed": false
   }
  },
  {
   "cell_type": "code",
   "execution_count": 7,
   "outputs": [
    {
     "data": {
      "text/plain": "(1000, 9)"
     },
     "execution_count": 7,
     "metadata": {},
     "output_type": "execute_result"
    }
   ],
   "source": [
    "test_virt = get_additional_stim_data2(THRESHOLDS, 100, 150e-6)\n",
    "test_virt.shape"
   ],
   "metadata": {
    "collapsed": false
   }
  },
  {
   "cell_type": "code",
   "execution_count": 8,
   "outputs": [],
   "source": [
    "FPS = 1000\n",
    "\n",
    "def run_experiment(X_IN,\n",
    "                   trace_decay_constant = -np.log( 0.99949191),\n",
    "                   trace_increase_rate = 13.95528162,\n",
    "                   act_decay_constant = 9.,\n",
    "                   rheobase = 23.9e-6,\n",
    "                   pulse_width = 100e-6,\n",
    "                   frequency = 200,\n",
    "                   dt = 1/32,):\n",
    "\n",
    "    # Stimulation sequence\n",
    "    stim = X_IN.copy()\n",
    "    n_steps = len(stim)\n",
    "    T = n_steps*dt\n",
    "\n",
    "    # Initialize output arrays\n",
    "    stim_input = np.zeros(n_steps) # JR: effective stimulation\n",
    "    trace = np.zeros(n_steps) #long-term memory trace\n",
    "    activation = np.zeros(n_steps) #output\n",
    "    leak = np.zeros(n_steps)\n",
    "\n",
    "\n",
    "    #run experiment\n",
    "    for t in range(n_steps):\n",
    "\n",
    "        ## TODO: REMOVE!!!\n",
    "#         trace = np.zeros(n_steps)\n",
    "\n",
    "        if t>0:\n",
    "\n",
    "            # remainder after decay from previous time step\n",
    "            activation[t] = activation[t-1]\n",
    "            activation[t] -= act_decay_constant * activation[t-1] * dt\n",
    "\n",
    "            # new input\n",
    "            leak_current  = trace[t-1] + rheobase\n",
    "\n",
    "#             # TODO: REMOVE!!!\n",
    "#             leak_current  = 0\n",
    "\n",
    "\n",
    "            stim_input[t] = (stim[t] - leak_current) * pulse_width * frequency\n",
    "            stim_input[t] = max(0,stim_input[t])\n",
    "            activation[t] += stim_input[t] * dt\n",
    "\n",
    "            # trace update\n",
    "            trace[t] = trace[t-1]\n",
    "            trace[t] -= trace_decay_constant * trace[t-1] * dt\n",
    "            trace[t] += trace_increase_rate * stim_input[t] * dt\n",
    "\n",
    "\n",
    "\n",
    "            leak[t]  = leak_current\n",
    "\n",
    "        else:\n",
    "            # In the first frame, ignore the previous time step (there is none)\n",
    "            stim_input[t] = (stim[t] - rheobase) * pulse_width * frequency * dt\n",
    "            stim_input[t] = max(0,stim_input[t])\n",
    "            activation[t] += stim_input[t]\n",
    "\n",
    "            leak[t]  = rheobase\n",
    "\n",
    "    return activation, trace, stim\n",
    "\n",
    "\n",
    "## The simulator model\n",
    "def get_max_activation(amplitude=90e-6,\n",
    "                       pulse_width=170e-6,\n",
    "                       frequency=300,\n",
    "                       stim_duration=166e-3,\n",
    "                       rheobase=23.9e-6,\n",
    "                       act_decay_constant = 9,\n",
    "                       fps=1000):\n",
    "\n",
    "    sequence = get_stim_sequence(stim_duration, amplitude, fps)\n",
    "\n",
    "    activation, trace, stim = run_experiment(sequence,\n",
    "                                             pulse_width = pulse_width,\n",
    "                                             frequency = frequency,\n",
    "                                             rheobase = rheobase,\n",
    "                                             act_decay_constant = act_decay_constant,\n",
    "                                             dt = 1/fps)\n",
    "\n",
    "\n",
    "    return activation.max()\n",
    "\n",
    "def get_stim_sequence(stim_duration=166e-3, amplitude=90e-6, fps=1000,):\n",
    "    stim_frames = int(stim_duration*fps)\n",
    "    sequence = np.concatenate([np.ones(stim_frames), np.zeros(fps-stim_frames)])\n",
    "    return amplitude * sequence\n",
    "\n",
    "\n"
   ],
   "metadata": {
    "collapsed": false
   }
  },
  {
   "cell_type": "code",
   "execution_count": 9,
   "outputs": [],
   "source": [
    "def calc_modeled_activation(data, fps=1000, rheobase=23.9e-6,act_decay_constant = 9.,trace_decay_constant = -np.log( 0.99949191),trace_increase_rate = 13.95528162,):\n",
    "    # Simplified model output\n",
    "    data['total_charge_loss_'] = rheobase * data.pulse_width * data.frequency * data.train_duration\n",
    "    data['total_effective_charge_'] = data.charge_per_trial - data.total_charge_loss_\n",
    "\n",
    "    activations = []\n",
    "    traces = []\n",
    "    stimulations = []\n",
    "\n",
    "    # Model output after providing stimulation sequence\n",
    "    for i,specs in notebook_tqdm(data.iterrows(), total=len(data)):\n",
    "\n",
    "        sequence = get_stim_sequence(stim_duration=specs.train_duration,\n",
    "                                     amplitude=specs.amplitude,\n",
    "                                     fps=fps)\n",
    "\n",
    "        activation, trace, stim = run_experiment(sequence,\n",
    "                                                 pulse_width = specs.pulse_width,\n",
    "                                                 frequency = specs.frequency,\n",
    "                                                 rheobase=rheobase,\n",
    "                                                 act_decay_constant = act_decay_constant,\n",
    "                                                 trace_decay_constant = trace_decay_constant,\n",
    "                                                 trace_increase_rate = trace_increase_rate,\n",
    "                                                 dt = 1/fps)\n",
    "\n",
    "\n",
    "\n",
    "        data.loc[i,'max_activation_'] = activation.max()\n",
    "\n",
    "        activations.append(activation)\n",
    "        traces.append(trace)\n",
    "        stimulations.append(stim)\n",
    "\n",
    "    return activations, traces, stimulations\n",
    "\n"
   ],
   "metadata": {
    "collapsed": false
   }
  },
  {
   "cell_type": "code",
   "execution_count": 36,
   "outputs": [],
   "source": [
    "ACTIVATION_DECAY = -np.log(params['temporal_dynamics']['activation_decay_per_second'])\n",
    "TRACE_DECAY = -np.log(params['temporal_dynamics']['trace_decay_per_second'])\n",
    "TRACE_INCREASE = params['temporal_dynamics']['trace_increase_rate']\n",
    "\n",
    "\n",
    "# Copy the datapoints from Fernandéz et al\n",
    "data = PROPORTIONS.copy()\n",
    "\n",
    "# Get some additional stimulation data (virtual datapoints, for simulation)\n",
    "n_datapoints = 30\n",
    "virtual_data = get_additional_stim_data2(THRESHOLDS, n_datapoints=n_datapoints, I_max=150e-6) # to create a smooth curve of the predicted response\n",
    "#virtual_data = virtual_data.merge(THRESHOLDS[['pulse_width','frequency','train_duration']]).drop_duplicates()"
   ],
   "metadata": {
    "collapsed": false
   }
  },
  {
   "cell_type": "code",
   "execution_count": 29,
   "outputs": [
    {
     "data": {
      "text/plain": "(300, 9)"
     },
     "execution_count": 29,
     "metadata": {},
     "output_type": "execute_result"
    }
   ],
   "source": [
    "virtual_data.shape"
   ],
   "metadata": {
    "collapsed": false
   }
  },
  {
   "cell_type": "code",
   "execution_count": 37,
   "outputs": [
    {
     "data": {
      "text/plain": "  0%|          | 0/102 [00:00<?, ?it/s]",
      "application/vnd.jupyter.widget-view+json": {
       "version_major": 2,
       "version_minor": 0,
       "model_id": "55b57a90a51d4318971c3a9f60dff2a1"
      }
     },
     "metadata": {},
     "output_type": "display_data"
    },
    {
     "data": {
      "text/plain": "  0%|          | 0/300 [00:00<?, ?it/s]",
      "application/vnd.jupyter.widget-view+json": {
       "version_major": 2,
       "version_minor": 0,
       "model_id": "b3ea2f2ae2be47ad930c94aa98c943c9"
      }
     },
     "metadata": {},
     "output_type": "display_data"
    }
   ],
   "source": [
    "# Calculate the modelled activation (run experiments for each of the datapoints)\n",
    "calc_modeled_activation(data,\n",
    "                        act_decay_constant= ACTIVATION_DECAY,\n",
    "                        trace_decay_constant = TRACE_DECAY,\n",
    "                        trace_increase_rate = TRACE_INCREASE,\n",
    "                   )\n",
    "activations, traces, stimulations = calc_modeled_activation(virtual_data,\n",
    "                                                            act_decay_constant= ACTIVATION_DECAY,\n",
    "                                                            trace_decay_constant = TRACE_DECAY,\n",
    "                                                            trace_increase_rate = TRACE_INCREASE) #, act_decay_constant = 1.)"
   ],
   "metadata": {
    "collapsed": false
   }
  },
  {
   "cell_type": "code",
   "execution_count": 12,
   "outputs": [],
   "source": [
    "#remove when everything works\n",
    "proportions = data.copy()\n",
    "v_copy = virtual_data.copy()"
   ],
   "metadata": {
    "collapsed": false
   }
  },
  {
   "cell_type": "code",
   "execution_count": 38,
   "outputs": [
    {
     "name": "stdout",
     "output_type": "stream",
     "text": [
      "[3 5 0] [False  True  True False  True False  True  True  True  True]\n",
      "0    1.256287e-07\n",
      "3   -4.253813e-07\n",
      "5    2.857615e-08\n",
      "dtype: float64\n",
      "R^2 : 0.3259069018503913\n",
      "3\n",
      "(74, 13) (6, 13)\n",
      "estimated activation threshold: 8.608569942979523e-08, sigma: 6.113147581547418e-08, \n",
      "R^2: 0.876\n",
      "y_pred_interp shape: (30,)\n",
      "10\n",
      "5\n",
      "(74, 13) (11, 13)\n",
      "estimated activation threshold: 8.608569942979523e-08, sigma: 6.113147581547418e-08, \n",
      "R^2: 0.795\n",
      "y_pred_interp shape: (30,)\n",
      "10\n",
      "0\n",
      "(74, 13) (11, 13)\n",
      "estimated activation threshold: 8.608569942979523e-08, sigma: 6.113147581547418e-08, \n",
      "R^2: 0.912\n",
      "y_pred_interp shape: (30,)\n",
      "10\n",
      "[9 6 1] [ True False  True  True  True  True False  True  True False]\n",
      "1   -3.148695e-08\n",
      "6   -8.128695e-08\n",
      "9   -6.634695e-08\n",
      "dtype: float64\n",
      "R^2 : -8.187974240715745\n",
      "9\n",
      "(69, 13) (11, 13)\n",
      "estimated activation threshold: 1.016787919843551e-07, sigma: 7.269387481348603e-08, \n",
      "R^2: 0.888\n",
      "y_pred_interp shape: (30,)\n",
      "10\n",
      "6\n",
      "(69, 13) (11, 13)\n",
      "estimated activation threshold: 1.016787919843551e-07, sigma: 7.269387481348603e-08, \n",
      "R^2: 0.887\n",
      "y_pred_interp shape: (30,)\n",
      "10\n",
      "1\n",
      "(69, 13) (11, 13)\n",
      "estimated activation threshold: 1.016787919843551e-07, sigma: 7.269387481348603e-08, \n",
      "R^2: 0.867\n",
      "y_pred_interp shape: (30,)\n",
      "10\n",
      "[2 7 4 8] [ True  True False  True False  True  True False False  True]\n",
      "2    2.120320e-07\n",
      "4   -8.055031e-09\n",
      "7   -2.647760e-08\n",
      "8   -5.721921e-08\n",
      "dtype: float64\n",
      "R^2 : 0.8055761865834783\n",
      "2\n",
      "(61, 13) (10, 13)\n",
      "estimated activation threshold: 8.481943172613786e-08, sigma: 6.615021992068971e-08, \n",
      "R^2: 0.988\n",
      "y_pred_interp shape: (30,)\n",
      "10\n",
      "7\n",
      "(61, 13) (11, 13)\n",
      "estimated activation threshold: 8.481943172613786e-08, sigma: 6.615021992068971e-08, \n",
      "R^2: 0.895\n",
      "y_pred_interp shape: (30,)\n",
      "10\n",
      "4\n",
      "(61, 13) (9, 13)\n",
      "estimated activation threshold: 8.481943172613786e-08, sigma: 6.615021992068971e-08, \n",
      "R^2: 0.761\n",
      "y_pred_interp shape: (30,)\n",
      "10\n",
      "8\n",
      "(61, 13) (11, 13)\n",
      "estimated activation threshold: 8.481943172613786e-08, sigma: 6.615021992068971e-08, \n",
      "R^2: 0.879\n",
      "y_pred_interp shape: (30,)\n",
      "10\n"
     ]
    }
   ],
   "source": [
    "def r_squared(xdata,ydata,ypred):\n",
    "    residuals = ydata - ypred\n",
    "    print(residuals)\n",
    "    ss_res = np.sum(residuals**2)\n",
    "    ss_tot = np.sum((ydata-np.mean(ydata))**2)\n",
    "    r_squared = 1 - (ss_res / ss_tot)\n",
    "    return r_squared\n",
    "\n",
    "y_true_list = [None] * len(THRESHOLDS)\n",
    "y_pred_list = [None] * len(THRESHOLDS)\n",
    "y_pred_interp_list = [None] * len(THRESHOLDS)\n",
    "r_values_thresholds = []\n",
    "r_values_cpt = []\n",
    "for split in test_splits:\n",
    "    test_idxs = np.zeros(len(THRESHOLDS),dtype=bool)\n",
    "    test_idxs[split] = True\n",
    "    print(split, ~test_idxs)\n",
    "    thresholds_data = THRESHOLDS.copy()\n",
    "    train_data = thresholds_data[~test_idxs]\n",
    "    test_data = thresholds_data[test_idxs]\n",
    "\n",
    "    # charge-duration curve\n",
    "    CD_fit = lambda duration,rheobase,chronaxie: rheobase*duration + chronaxie*rheobase\n",
    "    x, y = train_data.corrected_duration, train_data.charge_per_trial\n",
    "    fitParam, fitCov = curve_fit(CD_fit,x,y)\n",
    "    rheobase, chronaxie = fitParam\n",
    "\n",
    "    # strength-duration curve\n",
    "    SD_fit = lambda duration,rheobase,chronaxie: rheobase*(1+chronaxie/duration)\n",
    "\n",
    "    ### UNCOMMENT TO FIT ON AMPLITUDES INSTEAD OF CHARGE PER TRIAL\n",
    "    # x, y = data.corrected_duration, data.amplitude\n",
    "    # fitParam, fitCov = curve_fit(SD_fit,x,y)\n",
    "    # rheobase, chronaxie = fitParam\n",
    "\n",
    "    # CALCULATE R-squared\n",
    "    r2_cpt = r_squared( xdata = test_data['corrected_duration'],\n",
    "                        ydata = test_data['charge_per_trial'],\n",
    "                        ypred = test_data['corrected_duration']*rheobase + chronaxie*rheobase)\n",
    "    print(f'R^2 : {r2_cpt}')\n",
    "\n",
    "    PLOT_ZERO_ACTIVATIONS = 'standard' # choose: 'standard', 'ignore', 'crosses'\n",
    "\n",
    "    train_data = data.merge(THRESHOLDS[~test_idxs][['pulse_width','frequency','train_duration', 'label']])\n",
    "\n",
    "    # Estimated proportion of active phosphenes as function of effective charge (normal cumulative density func.)\n",
    "    func_prob = lambda tissue_act, sigma: norm.cdf(tissue_act, loc=rheobase*chronaxie, scale=sigma)\n",
    "\n",
    "    # # Curve fit (MODEL: max_activation_)\n",
    "    func_prob = lambda x, mu=5.9307288148088016e-08, sigma=4.3836315254409424e-08: norm.cdf(x, mu, sigma)\n",
    "\n",
    "    x = train_data.max_activation_\n",
    "    y_true = train_data.proportion_phosphene_perception\n",
    "    (A_thr,sigma,), _ = curve_fit(func_prob, x, y_true, p0=[50e-9, 2.2e-7], bounds=[[1e-11, 1.0e-10],[1e-6, 1.0e-5]])\n",
    "\n",
    "    mean_reg = 0\n",
    "    for idx in split:\n",
    "        print(idx)\n",
    "        test_data = data.merge(THRESHOLDS.iloc[[idx]][['pulse_width','frequency','train_duration', 'label']])\n",
    "        print(train_data.shape, test_data.shape)\n",
    "        # train_virtual_data = virtual_data.merge(THRESHOLDS[~split][['pulse_width','frequency','train_duration']])\n",
    "        test_virtual_data = virtual_data.merge(THRESHOLDS.iloc[[idx]][['pulse_width','frequency','train_duration']]).head(n_datapoints)\n",
    "\n",
    "        y_true = test_data.proportion_phosphene_perception\n",
    "        y_pred = func_prob(test_data.max_activation_, mu=A_thr, sigma=sigma)\n",
    "        regress = linregress(y_true,y_pred)\n",
    "        mean_reg += regress.rvalue**2\n",
    "        print(f'estimated activation threshold: {A_thr}, sigma: {sigma}, \\nR^2: {regress.rvalue**2:.3f}')\n",
    "\n",
    "        # Interpolated data points (for smooth prediction curve)\n",
    "        x_interp = test_virtual_data.max_activation_\n",
    "        y_pred_interp = func_prob(x_interp, mu=A_thr, sigma=sigma)\n",
    "        y_pred_interp[test_virtual_data.max_activation_ == 0] = 0\n",
    "        print(f\"y_pred_interp shape: {y_pred_interp.shape}\")\n",
    "\n",
    "        y_true_list[idx] = y_true\n",
    "        y_pred_list[idx] = y_pred\n",
    "        y_pred_interp_list[idx] = y_pred_interp\n",
    "        print(len(y_pred_interp_list))\n",
    "\n",
    "    r_values_cpt.append(r2_cpt)\n",
    "    r_values_thresholds.append(mean_reg/len(split))\n"
   ],
   "metadata": {
    "collapsed": false
   }
  },
  {
   "cell_type": "code",
   "execution_count": 39,
   "outputs": [
    {
     "data": {
      "text/plain": "([0.3259069018503913, -8.187974240715745, 0.8055761865834783],\n [0.8610765144203589, 0.8804948307993253, 0.8808158257179413])"
     },
     "execution_count": 39,
     "metadata": {},
     "output_type": "execute_result"
    }
   ],
   "source": [
    "r_values_cpt, r_values_thresholds"
   ],
   "metadata": {
    "collapsed": false
   }
  },
  {
   "cell_type": "code",
   "execution_count": 40,
   "outputs": [
    {
     "data": {
      "text/plain": "   pulse_width  frequency  train_duration  count\n0      0.00010        300           0.166     30\n1      0.00017        100           0.166     30\n2      0.00017        200           0.166     30\n3      0.00017        300           0.050     30\n4      0.00017        300           0.083     30\n5      0.00017        300           0.166     90\n6      0.00040        300           0.166     30\n7      0.00080        300           0.166     30",
      "text/html": "<div>\n<style scoped>\n    .dataframe tbody tr th:only-of-type {\n        vertical-align: middle;\n    }\n\n    .dataframe tbody tr th {\n        vertical-align: top;\n    }\n\n    .dataframe thead th {\n        text-align: right;\n    }\n</style>\n<table border=\"1\" class=\"dataframe\">\n  <thead>\n    <tr style=\"text-align: right;\">\n      <th></th>\n      <th>pulse_width</th>\n      <th>frequency</th>\n      <th>train_duration</th>\n      <th>count</th>\n    </tr>\n  </thead>\n  <tbody>\n    <tr>\n      <th>0</th>\n      <td>0.00010</td>\n      <td>300</td>\n      <td>0.166</td>\n      <td>30</td>\n    </tr>\n    <tr>\n      <th>1</th>\n      <td>0.00017</td>\n      <td>100</td>\n      <td>0.166</td>\n      <td>30</td>\n    </tr>\n    <tr>\n      <th>2</th>\n      <td>0.00017</td>\n      <td>200</td>\n      <td>0.166</td>\n      <td>30</td>\n    </tr>\n    <tr>\n      <th>3</th>\n      <td>0.00017</td>\n      <td>300</td>\n      <td>0.050</td>\n      <td>30</td>\n    </tr>\n    <tr>\n      <th>4</th>\n      <td>0.00017</td>\n      <td>300</td>\n      <td>0.083</td>\n      <td>30</td>\n    </tr>\n    <tr>\n      <th>5</th>\n      <td>0.00017</td>\n      <td>300</td>\n      <td>0.166</td>\n      <td>90</td>\n    </tr>\n    <tr>\n      <th>6</th>\n      <td>0.00040</td>\n      <td>300</td>\n      <td>0.166</td>\n      <td>30</td>\n    </tr>\n    <tr>\n      <th>7</th>\n      <td>0.00080</td>\n      <td>300</td>\n      <td>0.166</td>\n      <td>30</td>\n    </tr>\n  </tbody>\n</table>\n</div>"
     },
     "execution_count": 40,
     "metadata": {},
     "output_type": "execute_result"
    }
   ],
   "source": [
    "# y_pred_interp_list[0]\n",
    "virtual_data.groupby(['pulse_width','frequency','train_duration']).size().reset_index().rename(columns={0:'count'})"
   ],
   "metadata": {
    "collapsed": false
   }
  },
  {
   "cell_type": "code",
   "execution_count": 41,
   "outputs": [],
   "source": [
    "y_true = np.concatenate(y_true_list,axis=0)\n",
    "y_pred = np.concatenate(y_pred_list,axis=0)\n",
    "y_pred_interp = np.concatenate(y_pred_interp_list,axis=0)"
   ],
   "metadata": {
    "collapsed": false
   }
  },
  {
   "cell_type": "code",
   "execution_count": 33,
   "outputs": [
    {
     "data": {
      "text/plain": "(480,)"
     },
     "execution_count": 33,
     "metadata": {},
     "output_type": "execute_result"
    }
   ],
   "source": [
    "y_pred_interp.shape"
   ],
   "metadata": {
    "collapsed": false
   }
  },
  {
   "cell_type": "code",
   "execution_count": 42,
   "outputs": [
    {
     "data": {
      "text/plain": "((102,), (102,), (300,), (102, 13))"
     },
     "execution_count": 42,
     "metadata": {},
     "output_type": "execute_result"
    }
   ],
   "source": [
    "y_true.shape, y_pred.shape, y_pred_interp.shape, data.shape"
   ],
   "metadata": {
    "collapsed": false
   }
  },
  {
   "cell_type": "code",
   "execution_count": 27,
   "outputs": [
    {
     "data": {
      "text/plain": "(300, 12)"
     },
     "execution_count": 27,
     "metadata": {},
     "output_type": "execute_result"
    }
   ],
   "source": [
    "# virtual_data = virtual_data.merge(THRESHOLDS[['pulse_width','frequency','train_duration']]).drop_duplicates()\n",
    "virtual_data.shape"
   ],
   "metadata": {
    "collapsed": false
   }
  },
  {
   "cell_type": "code",
   "execution_count": 46,
   "outputs": [
    {
     "name": "stdout",
     "output_type": "stream",
     "text": [
      "(102,)\n",
      "(102,)\n",
      "(102,)\n"
     ]
    }
   ],
   "source": [
    "fig, axs = plt.subplots(2,2, figsize=(7.5,7), dpi=300)\n",
    "for i, (label, param, colors, xlim,) in enumerate([ ('fig2A','pulse_width', COLORSTYLE['turquoise'], [0,42],),\n",
    "                                                     ('fig2B','frequency', COLORSTYLE['red'], [0,17]),\n",
    "                                                     ('fig2C','train_duration', COLORSTYLE['orange'], [0,17])]):  #[0,17])]):\n",
    "\n",
    "    # Mask (select the datapoints for the correct experimental parameter: pw, f or td)\n",
    "    mask = virtual_data[f'mask_{param}'].copy()\n",
    "\n",
    "    if PLOT_ZERO_ACTIVATIONS == 'crosses':\n",
    "        # Change zero activation into crosses\n",
    "        zero_activation = (virtual_data.max_activation_  == 0) # mask for the zero_activations\n",
    "        sns.scatterplot(x=virtual_data.charge_per_phase[mask  & zero_activation]*1e9,\n",
    "                     y=y_pred_interp[mask & zero_activation],\n",
    "                     hue=virtual_data.loc[mask & zero_activation,param],\n",
    "                     ax=axs.flatten()[i],\n",
    "                     palette=sns.color_palette(colors, n_colors=len(virtual_data[param].unique() )),\n",
    "                     marker = 'x',\n",
    "                     s=15,\n",
    "                     alpha = 0.5,\n",
    "                     linewidths=1.)\n",
    "\n",
    "    if PLOT_ZERO_ACTIVATIONS == 'ignore' or PLOT_ZERO_ACTIVATIONS == 'crosses':\n",
    "        # Don't plot a line for the zero activation\n",
    "        nonzero_activation = ~(virtual_data.max_activation_  == 0) # mask for the nonzero activations\n",
    "        mask = mask & nonzero_activation\n",
    "\n",
    "\n",
    "    sns.lineplot(x=virtual_data.charge_per_phase[mask]*1e9,\n",
    "                 y=y_pred_interp[mask],\n",
    "                 hue=virtual_data.loc[mask,param],\n",
    "                 ax=axs.flatten()[i],\n",
    "                 palette=sns.color_palette(colors, n_colors=len(virtual_data[param].unique() )),\n",
    "                 linestyle='-',\n",
    "                 linewidth=1.8)\n",
    "\n",
    "\n",
    "\n",
    "    # Lineplot (data)\n",
    "    mask = data.label==label\n",
    "    print(mask.shape)\n",
    "    sns.lineplot(x = data.charge_per_phase[mask]*1e9,\n",
    "                 y = y_true[mask],\n",
    "                 hue = data.loc[mask,param],\n",
    "                 palette=sns.color_palette(colors, n_colors=len(data[param].unique() )),\n",
    "                 ax=axs.flatten()[i],\n",
    "                 legend=False,\n",
    "                 linewidth=1.,\n",
    "                 linestyle = ':')\n",
    "\n",
    "\n",
    "    axs.flatten()[i].set(xlim=xlim,\n",
    "                         ylabel = 'Prob. phosphene perception',\n",
    "                         xlabel = 'Charge per phase [$\\mu C$]')\n",
    "\n",
    "\n",
    "    # Scatterplot (model vs data)\n",
    "    mask = data.label==label\n",
    "    sns.scatterplot(x = y_true[mask],\n",
    "                    y = y_pred[mask],\n",
    "                    hue = data.loc[mask,param],\n",
    "                    palette=sns.color_palette(colors, n_colors=len(data[param].unique())),\n",
    "                    ax=axs.flatten()[-1],\n",
    "                    legend=False)\n",
    "\n",
    "\n",
    "\n",
    "\n",
    "# Neater legends (axs 0 to 3)\n",
    "axs[0][0].legend(['100', '170','400','800'], title='Pulse width [$\\mu s$]')\n",
    "axs[0][1].legend(['100', '200','300'], title='Frequency [$Hz$]')\n",
    "axs[1][0].legend(['50', '83','166'], title='Train dur. [$ms$]')\n",
    "\n",
    "# Adjust final\n",
    "axs[1][1].axline((0,0),(1,1), linestyle='--',color='k', linewidth=1.8)\n",
    "axs[1][1].set(ylabel = 'Predicted proportion',\n",
    "              xlabel = 'Observed proportion',)\n",
    "axs[1][1].text(0.005,0.95,f\"$R^2$: {np.mean(r_values_thresholds):.3f}\", ha='left',fontsize=13)\n",
    "plt.tight_layout()"
   ],
   "metadata": {
    "collapsed": false
   }
  },
  {
   "cell_type": "code",
   "execution_count": null,
   "outputs": [],
   "source": [],
   "metadata": {
    "collapsed": false
   }
  }
 ],
 "metadata": {
  "kernelspec": {
   "display_name": "Python 3",
   "language": "python",
   "name": "python3"
  },
  "language_info": {
   "codemirror_mode": {
    "name": "ipython",
    "version": 2
   },
   "file_extension": ".py",
   "mimetype": "text/x-python",
   "name": "python",
   "nbconvert_exporter": "python",
   "pygments_lexer": "ipython2",
   "version": "2.7.6"
  }
 },
 "nbformat": 4,
 "nbformat_minor": 0
}
