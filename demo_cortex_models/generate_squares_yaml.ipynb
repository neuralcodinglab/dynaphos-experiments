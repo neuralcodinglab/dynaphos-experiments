{
 "cells": [
  {
   "cell_type": "code",
   "execution_count": null,
   "id": "1eefda0b",
   "metadata": {},
   "outputs": [],
   "source": [
    "import yaml\n",
    "import numpy as np\n",
    "\n",
    "with open('squares.yaml', 'w') as file:\n",
    "    yaml.dump(coords,file)\n",
    "\n",
    "corners = [(30,1.), ( 37., -9.), (20., 10.), (20, -10)] \n",
    "spacing = 0.4\n",
    "electrodes = 10\n",
    "\n",
    "\n",
    "x, y = [], []\n",
    "for cx, cy in corners:\n",
    "    for x_ in [*np.linspace(cx,cx+electrodes*spacing,electrodes, endpoint=False)]:\n",
    "        for y_ in [*np.linspace(cy,cy+electrodes*spacing,electrodes, endpoint=False)]:\n",
    "            x.append(float(x_))\n",
    "            y.append(float(y_))\n",
    "            \n",
    "            \n",
    "coords = {'x':x, 'y':y}\n",
    "coords"
   ]
  }
 ],
 "metadata": {
  "kernelspec": {
   "display_name": "Python 3 (ipykernel)",
   "language": "python",
   "name": "python3"
  },
  "language_info": {
   "codemirror_mode": {
    "name": "ipython",
    "version": 3
   },
   "file_extension": ".py",
   "mimetype": "text/x-python",
   "name": "python",
   "nbconvert_exporter": "python",
   "pygments_lexer": "ipython3",
   "version": "3.9.13"
  }
 },
 "nbformat": 4,
 "nbformat_minor": 5
}
